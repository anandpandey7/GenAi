{
 "cells": [
  {
   "cell_type": "code",
   "execution_count": 1,
   "id": "1ce78781-8d5e-4ff8-90a2-d98bb6f92cad",
   "metadata": {},
   "outputs": [
    {
     "name": "stdout",
     "output_type": "stream",
     "text": [
      "Epoch 1/10\n",
      "\u001b[1m1875/1875\u001b[0m \u001b[32m━━━━━━━━━━━━━━━━━━━━\u001b[0m\u001b[37m\u001b[0m \u001b[1m3s\u001b[0m 1ms/step - accuracy: 0.9269 - loss: 0.2580\n",
      "Epoch 2/10\n",
      "\u001b[1m1875/1875\u001b[0m \u001b[32m━━━━━━━━━━━━━━━━━━━━\u001b[0m\u001b[37m\u001b[0m \u001b[1m3s\u001b[0m 1ms/step - accuracy: 0.9665 - loss: 0.1121\n",
      "Epoch 3/10\n",
      "\u001b[1m1875/1875\u001b[0m \u001b[32m━━━━━━━━━━━━━━━━━━━━\u001b[0m\u001b[37m\u001b[0m \u001b[1m2s\u001b[0m 1ms/step - accuracy: 0.9767 - loss: 0.0766\n",
      "Epoch 4/10\n",
      "\u001b[1m1875/1875\u001b[0m \u001b[32m━━━━━━━━━━━━━━━━━━━━\u001b[0m\u001b[37m\u001b[0m \u001b[1m3s\u001b[0m 1ms/step - accuracy: 0.9823 - loss: 0.0577\n",
      "Epoch 5/10\n",
      "\u001b[1m1875/1875\u001b[0m \u001b[32m━━━━━━━━━━━━━━━━━━━━\u001b[0m\u001b[37m\u001b[0m \u001b[1m2s\u001b[0m 1ms/step - accuracy: 0.9863 - loss: 0.0449\n",
      "Epoch 6/10\n",
      "\u001b[1m1875/1875\u001b[0m \u001b[32m━━━━━━━━━━━━━━━━━━━━\u001b[0m\u001b[37m\u001b[0m \u001b[1m3s\u001b[0m 1ms/step - accuracy: 0.9893 - loss: 0.0347\n",
      "Epoch 7/10\n",
      "\u001b[1m1875/1875\u001b[0m \u001b[32m━━━━━━━━━━━━━━━━━━━━\u001b[0m\u001b[37m\u001b[0m \u001b[1m2s\u001b[0m 1ms/step - accuracy: 0.9912 - loss: 0.0279\n",
      "Epoch 8/10\n",
      "\u001b[1m1875/1875\u001b[0m \u001b[32m━━━━━━━━━━━━━━━━━━━━\u001b[0m\u001b[37m\u001b[0m \u001b[1m3s\u001b[0m 1ms/step - accuracy: 0.9928 - loss: 0.0233\n",
      "Epoch 9/10\n",
      "\u001b[1m1875/1875\u001b[0m \u001b[32m━━━━━━━━━━━━━━━━━━━━\u001b[0m\u001b[37m\u001b[0m \u001b[1m3s\u001b[0m 1ms/step - accuracy: 0.9944 - loss: 0.0180\n",
      "Epoch 10/10\n",
      "\u001b[1m1875/1875\u001b[0m \u001b[32m━━━━━━━━━━━━━━━━━━━━\u001b[0m\u001b[37m\u001b[0m \u001b[1m2s\u001b[0m 1ms/step - accuracy: 0.9949 - loss: 0.0162\n"
     ]
    },
    {
     "data": {
      "text/plain": [
       "<keras.src.callbacks.history.History at 0x1c465ac8980>"
      ]
     },
     "execution_count": 1,
     "metadata": {},
     "output_type": "execute_result"
    }
   ],
   "source": [
    "import tensorflow as tf\n",
    "from tensorflow.keras import models, layers\n",
    "import numpy as np\n",
    "import matplotlib.pyplot as plt\n",
    "\n",
    "(x_train,y_train),(x_test,y_test) = tf.keras.datasets.mnist.load_data()\n",
    "\n",
    "# Normalize (scale pixel values 0–1)\n",
    "x_train = x_train / 255.0\n",
    "x_test = x_test / 255.0\n",
    "\n",
    "# Create model\n",
    "model = models.Sequential([\n",
    "    layers.Input(shape=(28, 28)),  # Specify input shape here\n",
    "    layers.Flatten(),              # Flatten the 2D image into 1D\n",
    "    layers.Dense(128, activation='relu'),\n",
    "    layers.Dense(10, activation='softmax')\n",
    "])\n",
    "\n",
    "# Compile model\n",
    "model.compile(optimizer='adam',\n",
    "              loss='sparse_categorical_crossentropy',  # use this for integer labels\n",
    "              metrics=['accuracy'])\n",
    "\n",
    "# Train\n",
    "model.fit(x_train, y_train, epochs=10)"
   ]
  },
  {
   "cell_type": "code",
   "execution_count": 2,
   "id": "f801aa43-9968-40ee-8256-84baf162fb48",
   "metadata": {},
   "outputs": [
    {
     "data": {
      "application/vnd.jupyter.widget-view+json": {
       "model_id": "275102f570ab47efbab0264f6e1e58bb",
       "version_major": 2,
       "version_minor": 0
      },
      "text/plain": [
       "VBox(children=(HTML(value='<center> <img\\nsrc=https://huggingface.co/front/assets/huggingface_logo-noborder.sv…"
      ]
     },
     "metadata": {},
     "output_type": "display_data"
    }
   ],
   "source": [
    "from huggingface_hub import notebook_login\n",
    "import tensorflow as tf\n",
    "\n",
    "model.save(\"mnist_model.keras\")\n",
    "notebook_login()"
   ]
  },
  {
   "cell_type": "code",
   "execution_count": 3,
   "id": "a3b623bb-17eb-481a-900d-71605dc3ad93",
   "metadata": {},
   "outputs": [
    {
     "name": "stdout",
     "output_type": "stream",
     "text": [
      "{'type': 'user', 'id': '68adb9d650b383b5f0792a12', 'name': 'anandcse', 'fullname': 'Anand Raj', 'isPro': False, 'avatarUrl': 'https://cdn-avatars.huggingface.co/v1/production/uploads/no-auth/0qcQtJj-etciPoR4f_hB3.png', 'orgs': [], 'auth': {'type': 'access_token', 'accessToken': {'displayName': 'Anand Raj', 'role': 'fineGrained', 'createdAt': '2025-08-26T17:36:23.631Z', 'fineGrained': {'canReadGatedRepos': True, 'global': [], 'scoped': [{'entity': {'_id': '68adb9d650b383b5f0792a12', 'type': 'user', 'name': 'anandcse'}, 'permissions': ['repo.content.read', 'repo.write']}]}}}}\n"
     ]
    }
   ],
   "source": [
    "from huggingface_hub import whoami\n",
    "print(whoami())\n"
   ]
  },
  {
   "cell_type": "code",
   "execution_count": 4,
   "id": "ee63531e-dbb0-4ada-92de-587360f7725d",
   "metadata": {},
   "outputs": [
    {
     "data": {
      "text/plain": [
       "RepoUrl('https://huggingface.co/anandcse/mnist-model', endpoint='https://huggingface.co', repo_type='model', repo_id='anandcse/mnist-model')"
      ]
     },
     "execution_count": 4,
     "metadata": {},
     "output_type": "execute_result"
    }
   ],
   "source": [
    "from huggingface_hub import HfApi\n",
    "repo_id = \"anandcse/mnist-model\"\n",
    "api = HfApi()\n",
    "\n",
    "api.create_repo(repo_id = repo_id, exist_ok = True)"
   ]
  },
  {
   "cell_type": "code",
   "execution_count": 6,
   "id": "0a74406a-61de-4a25-8a11-d58c2ae5cdd5",
   "metadata": {},
   "outputs": [
    {
     "data": {
      "application/vnd.jupyter.widget-view+json": {
       "model_id": "09cc740b5b9d4bc4855ea09256865585",
       "version_major": 2,
       "version_minor": 0
      },
      "text/plain": [
       "mnist_model.keras:   0%|          | 0.00/1.24M [00:00<?, ?B/s]"
      ]
     },
     "metadata": {},
     "output_type": "display_data"
    },
    {
     "data": {
      "text/plain": [
       "CommitInfo(commit_url='https://huggingface.co/anandcse/mnist-model/commit/6ce5c80a2a5cb3a5e968a965fc7e884c2b9d5a57', commit_message='Upload folder using huggingface_hub', commit_description='', oid='6ce5c80a2a5cb3a5e968a965fc7e884c2b9d5a57', pr_url=None, repo_url=RepoUrl('https://huggingface.co/anandcse/mnist-model', endpoint='https://huggingface.co', repo_type='model', repo_id='anandcse/mnist-model'), pr_revision=None, pr_num=None)"
      ]
     },
     "execution_count": 6,
     "metadata": {},
     "output_type": "execute_result"
    }
   ],
   "source": [
    "from huggingface_hub import upload_folder\n",
    "repo_id = \"anandcse/mnist-model\"\n",
    "upload_folder(folder_path=\"\",repo_id = repo_id,repo_type = \"model\")"
   ]
  },
  {
   "cell_type": "code",
   "execution_count": 9,
   "id": "477932eb-3c04-4a1c-b133-721d79f8e6fa",
   "metadata": {},
   "outputs": [],
   "source": [
    "from huggingface_hub import hf_hub_download\n",
    "from tensorflow import keras\n",
    "\n",
    "model_path = hf_hub_download(repo_id = repo_id, filename = \"mnist_model.keras\")\n",
    "\n",
    "model = keras.models.load_model(model_path)"
   ]
  },
  {
   "cell_type": "code",
   "execution_count": 10,
   "id": "242a26f3-6357-4306-b3cd-63c0f29828f2",
   "metadata": {},
   "outputs": [
    {
     "name": "stdout",
     "output_type": "stream",
     "text": [
      "\u001b[1m1875/1875\u001b[0m \u001b[32m━━━━━━━━━━━━━━━━━━━━\u001b[0m\u001b[37m\u001b[0m \u001b[1m1s\u001b[0m 724us/step\n"
     ]
    },
    {
     "data": {
      "text/plain": [
       "array([[2.92395985e-16, 8.64039396e-12, 3.25212860e-12, ...,\n",
       "        7.54496698e-14, 1.76169915e-15, 1.32057532e-10],\n",
       "       [9.99999642e-01, 5.00427760e-17, 4.12863045e-07, ...,\n",
       "        5.41774037e-13, 4.50317382e-13, 4.38057007e-10],\n",
       "       [5.36976279e-12, 6.81358259e-08, 4.37500557e-06, ...,\n",
       "        1.00882644e-04, 1.39273748e-09, 1.64470327e-06],\n",
       "       ...,\n",
       "       [4.35667558e-17, 8.30340352e-10, 1.71116405e-16, ...,\n",
       "        4.63279969e-15, 1.33552381e-12, 1.09334399e-08],\n",
       "       [1.05048619e-08, 1.17065205e-10, 1.47737595e-07, ...,\n",
       "        1.56328520e-10, 3.85560368e-11, 6.22416771e-11],\n",
       "       [3.05811305e-08, 1.76719177e-11, 9.24164397e-06, ...,\n",
       "        4.29009717e-10, 9.99985099e-01, 7.23093592e-07]], dtype=float32)"
      ]
     },
     "execution_count": 10,
     "metadata": {},
     "output_type": "execute_result"
    }
   ],
   "source": [
    "model.predict(x_train)"
   ]
  },
  {
   "cell_type": "code",
   "execution_count": null,
   "id": "3db0d841-64f9-4f3d-918c-4bdb7f297fbb",
   "metadata": {},
   "outputs": [],
   "source": []
  }
 ],
 "metadata": {
  "kernelspec": {
   "display_name": "Python 3 (ipykernel)",
   "language": "python",
   "name": "python3"
  },
  "language_info": {
   "codemirror_mode": {
    "name": "ipython",
    "version": 3
   },
   "file_extension": ".py",
   "mimetype": "text/x-python",
   "name": "python",
   "nbconvert_exporter": "python",
   "pygments_lexer": "ipython3",
   "version": "3.13.5"
  }
 },
 "nbformat": 4,
 "nbformat_minor": 5
}
