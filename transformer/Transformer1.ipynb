{
 "cells": [
  {
   "cell_type": "code",
   "execution_count": 1,
   "id": "be7838a8-bc32-4817-95cd-d514fa494802",
   "metadata": {},
   "outputs": [],
   "source": [
    "import tensorflow as tf\n",
    "from tensorflow.keras.preprocessing.text import Tokenizer\n",
    "from tensorflow.keras.utils import pad_sequences\n",
    "from tensorflow.keras.layers import Layer, Embedding, Dense, LayerNormalization, Dropout\n",
    "import numpy as np"
   ]
  },
  {
   "cell_type": "code",
   "execution_count": 2,
   "id": "7525c6ee-aab9-4cbb-a05f-05140f851b4c",
   "metadata": {},
   "outputs": [],
   "source": [
    "def load_data(path):\n",
    "    # Use utf-8 encoding which handles a wider range of characters\n",
    "    # Add error handling strategy (errors='replace' will replace problematic characters)\n",
    "    with open(path, 'r', encoding='utf-8', errors='replace') as f:\n",
    "        data = f.read()\n",
    "    return data    \n",
    "\n",
    "path = \"Book1.txt\"  \n",
    "text = load_data(path).lower()"
   ]
  },
  {
   "cell_type": "code",
   "execution_count": 3,
   "id": "2d13b387-11d6-470b-88ee-ff720fffb915",
   "metadata": {},
   "outputs": [],
   "source": [
    "# Tokenize the text\n",
    "tokenizer = Tokenizer(oov_token='<OOV>')\n",
    "tokenizer.fit_on_texts([text])\n",
    "total_words = len(tokenizer.word_index) + 1\n",
    "\n",
    "# Convert text to sequences\n",
    "input_sequences = []\n",
    "tokens = tokenizer.texts_to_sequences([text])[0]\n",
    "seq_length = 50\n",
    "\n",
    "# First seq_length tokens (input): Used for training the model.\n",
    "# Last token (target): Used as the label the model tries to predict.\n",
    "# so total of (50 + 1) in one input_sequence index\n",
    "\n",
    "for i in range(seq_length, len(tokens)):\n",
    "    input_sequences.append(tokens[i - seq_length:i + 1])\n",
    "\n",
    "#print(input_sequences[0])\n",
    "\n",
    "# Pad sequences and split inputs/targets\n",
    "# after this X will have inputs and y will have label for those inputs\n",
    "input_sequences = np.array(pad_sequences(input_sequences, maxlen=seq_length + 1, padding='pre'))\n",
    "X, y = input_sequences[:, :-1], input_sequences[:, -1]\n",
    "\n",
    "# One-hot encode the labels , note- there are other ways for\n",
    "# encoding like pre-trained word2vec encoding and so on\n",
    "y = tf.keras.utils.to_categorical(y, num_classes=total_words)"
   ]
  },
  {
   "cell_type": "markdown",
   "id": "751d3219-2bde-45c8-8679-e502b50c8289",
   "metadata": {},
   "source": [
    "# TransFormer"
   ]
  },
  {
   "cell_type": "code",
   "execution_count": 4,
   "id": "679913bf-1c98-4ff3-98b3-b830f0c14982",
   "metadata": {},
   "outputs": [],
   "source": [
    "class MultiHeadSelfAttention(Layer):\n",
    "    def __init__(self, embed_dim, num_heads):\n",
    "        self.embed_dim = embed_dim\n",
    "        self.num_heads = num_heads\n",
    "        self.projection_dim = embed_dim // num_heads\n",
    "\n",
    "        self.query_dense = Dense(embed_dim)\n",
    "        self.key_dense = Dense(embed_dim)\n",
    "        self.value_dense = Dense(embed_dim)\n",
    "        self.combine_heads = Dense(embed_dim)\n",
    "\n",
    "    def split_heads(self, x):\n",
    "        batch_size = tf.shape(x)[0]\n",
    "        # Split the embedding into multiple heads\n",
    "        x = tf.reshape(x, (batch_size, -1, self.num_heads, self.projection_dim))\n",
    "        return tf.transpose(x, perm=[0, 2, 1, 3])\n",
    "\n",
    "    def attention(self, query, key, value):\n",
    "        # Compute attention scores\n",
    "        scores = tf.matmul(query, key, transpose_b=True)\n",
    "        scores = scores / tf.sqrt(tf.cast(self.projection_dim, tf.float32))\n",
    "        weights = tf.nn.softmax(scores, axis=-1)\n",
    "        return tf.matmul(weights, value)\n",
    "\n",
    "    def call(self, inputs):\n",
    "        query, key, value = inputs # unpacking the inputs shape - (batch_size, seq_length, embed_dim)\n",
    "        batch_size = tf.shape(query)[0]\n",
    "\n",
    "        query = self.split_heads(self.query_dense(query))\n",
    "        key = self.split_heads(self.key_dense(key))\n",
    "        value = self.split_heads(self.value_dense(value))\n",
    "\n",
    "        # Scaled dot-product attention\n",
    "        attention_output = self.attention(query, key, value)\n",
    "        attention_output = tf.transpose(attention_output, perm=[0, 2, 1, 3])\n",
    "        concatenated = tf.reshape(attention_output, (batch_size, -1, self.embed_dim))\n",
    "        return self.combine_heads(concatenated)"
   ]
  },
  {
   "cell_type": "code",
   "execution_count": 5,
   "id": "297a6a9b-7008-46e1-b6e8-6b18e2a069c2",
   "metadata": {},
   "outputs": [],
   "source": [
    "class TransformerBlock(Layer):\n",
    "    def __init__(self, embed_dim, num_heads, ff_dim, rate=0.1):\n",
    "        super(TransformerBlock, self).__init__()\n",
    "        self.attention = MultiHeadSelfAttention(embed_dim, num_heads)\n",
    "        self.ffn = tf.keras.Sequential([\n",
    "            Dense(ff_dim , activation='relu'),\n",
    "            Dense(embed_dim)\n",
    "        ])\n",
    "        self.layernorm1 = LayerNormalization(epsilon=1e-6)\n",
    "        self.layernorm2 = LayerNormalization(epsilon=1e-6)\n",
    "        self.dropout1 = Dropout(rate)\n",
    "        self.dropout2 = Dropout(rate)\n",
    "\n",
    "    def call(self, inputs, training):\n",
    "        attention_output = self.attention(inputs)\n",
    "        attention_output = self.dropout1(attention_output, training=training)\n",
    "        out1 = self.layernorm1(inputs + attention_output)\n",
    "\n",
    "        ffn_output = self.ffn(out1)\n",
    "        ffn_output = self.dropout2(ffn_output, training=training)\n",
    "        return self.layernorm2(out1 + ffn_output)"
   ]
  },
  {
   "cell_type": "code",
   "execution_count": 6,
   "id": "b9cc9e96-5721-4f65-9ecb-812550f16346",
   "metadata": {},
   "outputs": [],
   "source": [
    "class TokenAndPositionEmbedding(Layer):\n",
    "    def __init__(self, maxlen, vocab_size, embed_dim):\n",
    "        super(TokenAndPositionEmbedding, self).__init__()\n",
    "        self.token_embedding = Embedding(input_dim=vocab_size, output_dim=embed_dim)\n",
    "        self.position_embedding = Embedding(input_dim=maxlen, output_dim=embed_dim)\n",
    "\n",
    "    def call(self, inputs):\n",
    "        seq_length = tf.shape(inputs)[1]\n",
    "        positions = tf.range(start=0, limit=seq_length, delta=1)\n",
    "        positions = self.position_embedding(positions)\n",
    "        return self.token_embedding(inputs) + positions"
   ]
  },
  {
   "cell_type": "code",
   "execution_count": 7,
   "id": "43d7d72f-fff5-4318-99e3-9499691b7cf9",
   "metadata": {},
   "outputs": [
    {
     "name": "stdout",
     "output_type": "stream",
     "text": [
      "WARNING:tensorflow:From D:\\anaconda3\\Lib\\site-packages\\keras\\src\\backend\\tensorflow\\core.py:232: The name tf.placeholder is deprecated. Please use tf.compat.v1.placeholder instead.\n",
      "\n",
      "(None, 50, 128)\n"
     ]
    },
    {
     "ename": "AttributeError",
     "evalue": "'MultiHeadSelfAttention' object has no attribute '_losses'",
     "output_type": "error",
     "traceback": [
      "\u001b[1;31m---------------------------------------------------------------------------\u001b[0m",
      "\u001b[1;31mAttributeError\u001b[0m                            Traceback (most recent call last)",
      "Cell \u001b[1;32mIn[7], line 15\u001b[0m\n\u001b[0;32m     13\u001b[0m \u001b[38;5;28mprint\u001b[39m(x\u001b[38;5;241m.\u001b[39mshape)\n\u001b[0;32m     14\u001b[0m transformer_block \u001b[38;5;241m=\u001b[39m TransformerBlock(embed_dim, num_heads, ff_dim)\n\u001b[1;32m---> 15\u001b[0m x \u001b[38;5;241m=\u001b[39m transformer_block(x, training\u001b[38;5;241m=\u001b[39m\u001b[38;5;28;01mTrue\u001b[39;00m)\n\u001b[0;32m     16\u001b[0m \u001b[38;5;28mprint\u001b[39m(x\u001b[38;5;241m.\u001b[39mshape)\n\u001b[0;32m     17\u001b[0m x \u001b[38;5;241m=\u001b[39m x[:, \u001b[38;5;241m-\u001b[39m\u001b[38;5;241m1\u001b[39m, :]\n",
      "File \u001b[1;32mD:\\anaconda3\\Lib\\site-packages\\keras\\src\\utils\\traceback_utils.py:122\u001b[0m, in \u001b[0;36mfilter_traceback.<locals>.error_handler\u001b[1;34m(*args, **kwargs)\u001b[0m\n\u001b[0;32m    119\u001b[0m     filtered_tb \u001b[38;5;241m=\u001b[39m _process_traceback_frames(e\u001b[38;5;241m.\u001b[39m__traceback__)\n\u001b[0;32m    120\u001b[0m     \u001b[38;5;66;03m# To get the full stack trace, call:\u001b[39;00m\n\u001b[0;32m    121\u001b[0m     \u001b[38;5;66;03m# `keras.config.disable_traceback_filtering()`\u001b[39;00m\n\u001b[1;32m--> 122\u001b[0m     \u001b[38;5;28;01mraise\u001b[39;00m e\u001b[38;5;241m.\u001b[39mwith_traceback(filtered_tb) \u001b[38;5;28;01mfrom\u001b[39;00m\u001b[38;5;250m \u001b[39m\u001b[38;5;28;01mNone\u001b[39;00m\n\u001b[0;32m    123\u001b[0m \u001b[38;5;28;01mfinally\u001b[39;00m:\n\u001b[0;32m    124\u001b[0m     \u001b[38;5;28;01mdel\u001b[39;00m filtered_tb\n",
      "File \u001b[1;32mD:\\anaconda3\\Lib\\site-packages\\keras\\src\\layers\\layer.py:1261\u001b[0m, in \u001b[0;36mLayer._clear_losses\u001b[1;34m(self)\u001b[0m\n\u001b[0;32m   1259\u001b[0m             \u001b[38;5;28;01mif\u001b[39;00m \u001b[38;5;28mid\u001b[39m(x) \u001b[38;5;129;01min\u001b[39;00m \u001b[38;5;28mself\u001b[39m\u001b[38;5;241m.\u001b[39m_loss_ids:\n\u001b[0;32m   1260\u001b[0m                 scope\u001b[38;5;241m.\u001b[39mlosses\u001b[38;5;241m.\u001b[39mremove(x)\n\u001b[1;32m-> 1261\u001b[0m \u001b[38;5;28mself\u001b[39m\u001b[38;5;241m.\u001b[39m_losses\u001b[38;5;241m.\u001b[39mclear()\n\u001b[0;32m   1262\u001b[0m \u001b[38;5;28mself\u001b[39m\u001b[38;5;241m.\u001b[39m_loss_ids\u001b[38;5;241m.\u001b[39mclear()\n\u001b[0;32m   1263\u001b[0m \u001b[38;5;28;01mfor\u001b[39;00m layer \u001b[38;5;129;01min\u001b[39;00m \u001b[38;5;28mself\u001b[39m\u001b[38;5;241m.\u001b[39m_layers:\n",
      "\u001b[1;31mAttributeError\u001b[0m: 'MultiHeadSelfAttention' object has no attribute '_losses'"
     ]
    }
   ],
   "source": [
    "# Model Parameters\n",
    "embed_dim = 128  # Embedding size\n",
    "num_heads = 4    # Number of attention heads\n",
    "ff_dim = 512     # Feed-forward layer size\n",
    "maxlen = seq_length  # max it is 50 defined above\n",
    "\n",
    "# below total words = 6662 (see above - basically all tokens in the text)\n",
    "\n",
    "# Build the model\n",
    "inputs = tf.keras.Input(shape=(maxlen,))\n",
    "embedding_layer = TokenAndPositionEmbedding(maxlen, total_words, embed_dim)\n",
    "x = embedding_layer(inputs)\n",
    "print(x.shape)\n",
    "transformer_block = TransformerBlock(embed_dim, num_heads, ff_dim)\n",
    "x = transformer_block(x, training=True)\n",
    "print(x.shape)\n",
    "x = x[:, -1, :]\n",
    "print(x.shape)\n",
    "x = Dense(total_words, activation=\"softmax\")(x)\n",
    "print(x.shape)\n",
    "model = tf.keras.Model(inputs=inputs, outputs=x)\n",
    "\n",
    "# Compile the model\n",
    "model.compile(optimizer=\"adam\", loss=\"categorical_crossentropy\", metrics=[\"accuracy\"])\n",
    "\n",
    "model.summary()"
   ]
  },
  {
   "cell_type": "code",
   "execution_count": null,
   "id": "47c199c7-7d05-471d-8378-d137654c1a19",
   "metadata": {},
   "outputs": [],
   "source": []
  }
 ],
 "metadata": {
  "kernelspec": {
   "display_name": "Python 3 (ipykernel)",
   "language": "python",
   "name": "python3"
  },
  "language_info": {
   "codemirror_mode": {
    "name": "ipython",
    "version": 3
   },
   "file_extension": ".py",
   "mimetype": "text/x-python",
   "name": "python",
   "nbconvert_exporter": "python",
   "pygments_lexer": "ipython3",
   "version": "3.13.5"
  }
 },
 "nbformat": 4,
 "nbformat_minor": 5
}
